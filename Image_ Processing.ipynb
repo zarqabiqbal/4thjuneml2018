{
 "cells": [
  {
   "cell_type": "code",
   "execution_count": 1,
   "metadata": {},
   "outputs": [
    {
     "name": "stdout",
     "output_type": "stream",
     "text": [
      "(357, 536, 3)\n"
     ]
    }
   ],
   "source": [
    "import cv2\n",
    "import numpy as np\n",
    "\n",
    "#load image\n",
    "img1=cv2.imread('Cat.jpg')\n",
    "#img2=cv2.imread('Sloth.jpg')\n",
    "\n",
    "#print image size in (height,width,rgb)\n",
    "print(img1.shape)\n",
    "#print(img2.shape)\n",
    "\n",
    "#show the image\n",
    "cv2.imshow('Image1',img1)\n",
    "#cv2.imshow('Image2',img2)\n",
    "\n",
    "#wait until we close the image by q button\n",
    "cv2.waitKey(0)\n",
    "\n",
    "#destroy all window which are open\n",
    "cv2.destroyAllWindows()"
   ]
  },
  {
   "cell_type": "code",
   "execution_count": 2,
   "metadata": {},
   "outputs": [],
   "source": [
    "\n",
    "img1=cv2.imread(\"Cat.jpg\")\n",
    "#collect a small part from image\n",
    "face=img1[153:202,278:342]\n",
    "#add the small part in image\n",
    "img1[194:243,226:290]=face\n",
    "\n",
    "cv2.imshow(\"Image3\",img1)\n",
    "cv2.waitKey(0)\n",
    "cv2.destroyAllWindows()\n"
   ]
  },
  {
   "cell_type": "code",
   "execution_count": 9,
   "metadata": {
    "scrolled": true
   },
   "outputs": [],
   "source": [
    "\n",
    "img1=cv2.imread(\"Sloth.jpg\")\n",
    "img2=cv2.imread(\"Cat.jpg\")\n",
    "\n",
    "#merge two image in one with diffrent density\n",
    "img3=cv2.addWeighted(img1,0.1,img2,0.1,0)\n",
    "\n",
    "cv2.imshow(\"Image3\",img3)\n",
    "cv2.waitKey(0)\n",
    "cv2.destroyAllWindows()"
   ]
  },
  {
   "cell_type": "code",
   "execution_count": null,
   "metadata": {},
   "outputs": [],
   "source": []
  }
 ],
 "metadata": {
  "kernelspec": {
   "display_name": "Python 3",
   "language": "python",
   "name": "python3"
  },
  "language_info": {
   "codemirror_mode": {
    "name": "ipython",
    "version": 3
   },
   "file_extension": ".py",
   "mimetype": "text/x-python",
   "name": "python",
   "nbconvert_exporter": "python",
   "pygments_lexer": "ipython3",
   "version": "3.6.5"
  }
 },
 "nbformat": 4,
 "nbformat_minor": 2
}
