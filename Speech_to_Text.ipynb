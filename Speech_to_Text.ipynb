{
 "cells": [
  {
   "cell_type": "code",
   "execution_count": 2,
   "metadata": {},
   "outputs": [
    {
     "name": "stdout",
     "output_type": "stream",
     "text": [
      "Speak:\n",
      "You said hello\n"
     ]
    }
   ],
   "source": [
    "#get audio from the microphone and print the text\n",
    "import speech_recognition as sr \n",
    "import os\n",
    "\n",
    "# get audio from the microphone                                                                       \n",
    "r = sr.Recognizer()                                                                                   \n",
    "with sr.Microphone() as source:   \n",
    "    r.adjust_for_ambient_noise(source)\n",
    "    print(\"Speak:\")                                                                                   \n",
    "    audio = r.listen(source)   \n",
    "\n",
    "try:\n",
    "    print(\"You said \" + r.recognize_google(audio))\n",
    "except sr.UnknownValueError:\n",
    "    print(\"Could not understand audio\")\n",
    "except sr.RequestError as e:\n",
    "    print(\"Could not request results; {0}\".format(e))"
   ]
  },
  {
   "cell_type": "code",
   "execution_count": 13,
   "metadata": {},
   "outputs": [
    {
     "name": "stdout",
     "output_type": "stream",
     "text": [
      "Say Command :\n",
      "open firefox\n"
     ]
    }
   ],
   "source": [
    "# get audio from the microphone and use it for open firefox                                                                   \n",
    "r = sr.Recognizer()                                                                                   \n",
    "with sr.Microphone() as source:   \n",
    "    r.adjust_for_ambient_noise(source)\n",
    "    print(\"Say Command :\")                                                                                   \n",
    "    audio = r.listen(source)   \n",
    "    speech=r.recognize_google(audio).lower()\n",
    "try:\n",
    "    if  \"open\" in speech and \"firefox\" in speech:\n",
    "         os.system('firefox')\n",
    "    else:\n",
    "         print(\"You said \" + speech)\n",
    "except sr.UnknownValueError:\n",
    "    print(\"Could not understand audio\")\n",
    "except sr.RequestError as e:\n",
    "    print(\"Could not request results; {0}\".format(e))"
   ]
  },
  {
   "cell_type": "code",
   "execution_count": 14,
   "metadata": {},
   "outputs": [
    {
     "name": "stdout",
     "output_type": "stream",
     "text": [
      "Speak:\n",
      "You said हेलो\n"
     ]
    }
   ],
   "source": [
    "# get audio from the microphone  and give the output in hindi                                                                     \n",
    "r = sr.Recognizer()                                                                                   \n",
    "with sr.Microphone() as source:   \n",
    "    r.adjust_for_ambient_noise(source)\n",
    "    print(\"Speak:\")                                                                                   \n",
    "    audio = r.listen(source)   \n",
    "\n",
    "try:\n",
    "    print(\"You said \" + r.recognize_google(audio,language='hi-IN'))\n",
    "except sr.UnknownValueError:\n",
    "    print(\"Could not understand audio\")\n",
    "except sr.RequestError as e:\n",
    "    print(\"Could not request results; {0}\".format(e))"
   ]
  },
  {
   "cell_type": "code",
   "execution_count": 28,
   "metadata": {},
   "outputs": [
    {
     "name": "stdout",
     "output_type": "stream",
     "text": [
      "Say Command :\n",
      "You said open gedit\n",
      "Say Command :\n"
     ]
    }
   ],
   "source": [
    "# get audio from the microphone and use it for open anything   \n",
    "while 1:\n",
    "    r = sr.Recognizer()                                                                                   \n",
    "    with sr.Microphone() as source:   \n",
    "        r.adjust_for_ambient_noise(source)\n",
    "        print(\"Say Command :\")                                                                                   \n",
    "        audio = r.listen(source)   \n",
    "        speech=r.recognize_google(audio).lower().split()\n",
    "    try:\n",
    "        if  \"open\" == speech[0]:\n",
    "             os.system(speech[-1])\n",
    "        elif \"exit\" == speech[0]:\n",
    "             break\n",
    "        print(\"You said \" + r.recognize_google(audio).lower())\n",
    "    except sr.UnknownValueError:\n",
    "        print(\"Could not understand audio\")\n",
    "    except sr.RequestError as e:\n",
    "        print(\"Could not request results; {0}\".format(e))"
   ]
  },
  {
   "cell_type": "code",
   "execution_count": null,
   "metadata": {},
   "outputs": [],
   "source": []
  },
  {
   "cell_type": "code",
   "execution_count": null,
   "metadata": {},
   "outputs": [],
   "source": []
  }
 ],
 "metadata": {
  "kernelspec": {
   "display_name": "Python 3",
   "language": "python",
   "name": "python3"
  },
  "language_info": {
   "codemirror_mode": {
    "name": "ipython",
    "version": 3
   },
   "file_extension": ".py",
   "mimetype": "text/x-python",
   "name": "python",
   "nbconvert_exporter": "python",
   "pygments_lexer": "ipython3",
   "version": "3.6.5"
  }
 },
 "nbformat": 4,
 "nbformat_minor": 2
}
