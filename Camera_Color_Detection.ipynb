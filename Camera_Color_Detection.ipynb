{
 "cells": [
  {
   "cell_type": "code",
   "execution_count": 25,
   "metadata": {},
   "outputs": [],
   "source": [
    "############################################----Red Color Detection----##################################################\n",
    "\n",
    "#!/usr/bin/python3\n",
    "\n",
    "import cv2\n",
    "\n",
    "#initialize video capture device\n",
    "cap=cv2.VideoCapture(0)\n",
    "while cap.isOpened():\n",
    "    #load image from the capture device\n",
    "    red_image=cap.read()[1]\n",
    "    image=cap.read()[1]\n",
    "    #extract red color from the image\n",
    "    only_red=cv2.inRange(red_image,(0,0,0),(50,40,220))\n",
    "    #show the image\n",
    "    cv2.imshow('Green Color Check',only_red)\n",
    "    cv2.imshow('Normal Image',image)\n",
    "\n",
    "    if cv2.waitKey(1) & 0xff == ord('q'):\n",
    "        break\n",
    "\n",
    "cv2.destroyAllWindows()\n",
    "cap.release()"
   ]
  },
  {
   "cell_type": "code",
   "execution_count": 26,
   "metadata": {},
   "outputs": [],
   "source": [
    "############################################----Green Color Detection----#################################################\n",
    "\n",
    "\n",
    "cap=cv2.VideoCapture(0)\n",
    "while cap.isOpened():\n",
    "\n",
    "    green_image=cap.read()[1]\n",
    "    image=cap.read()[1]\n",
    "\n",
    "    only_green=cv2.inRange(green_image,(0,0,0),(70,190,90))\n",
    "    \n",
    "    cv2.imshow('Green Color Check',only_green)\n",
    "    cv2.imshow('Normal Image',image)\n",
    "\n",
    "    if cv2.waitKey(1) & 0xff == ord('q'):\n",
    "        break\n",
    "\n",
    "cv2.destroyAllWindows()\n",
    "cap.release()"
   ]
  },
  {
   "cell_type": "code",
   "execution_count": 24,
   "metadata": {},
   "outputs": [],
   "source": [
    "############################################----Blue Color Detection----##################################################\n",
    "\n",
    "cap=cv2.VideoCapture(0)\n",
    "while cap.isOpened():\n",
    "\n",
    "    blue_image=cap.read()[1]\n",
    "    image=cap.read()[1]\n",
    "\n",
    "    only_blue=cv2.inRange(blue_image,(0,0,0),(200,60,90))\n",
    "    \n",
    "    cv2.imshow('Blue Color Check',only_blue)\n",
    "    cv2.imshow('Normal Image',image)\n",
    "\n",
    "    if cv2.waitKey(1) & 0xff == ord('q'):\n",
    "        break\n",
    "\n",
    "cv2.destroyAllWindows()\n",
    "cap.release()"
   ]
  },
  {
   "cell_type": "code",
   "execution_count": 29,
   "metadata": {},
   "outputs": [],
   "source": [
    "#########################----Extract Red Color from local Image----###################\n",
    "\n",
    "normal_image=cv2.imread(\"red.jpeg\")\n",
    "\n",
    "only_red=cv2.inRange(normal_image,(0,0,0),(50,40,220))\n",
    "    \n",
    "cv2.imshow('Blue Color Check',only_red)\n",
    "cv2.imshow('Normal Image',normal_image)\n",
    "\n",
    "cv2.waitKey(0) \n",
    "\n",
    "cv2.destroyAllWindows()"
   ]
  },
  {
   "cell_type": "code",
   "execution_count": null,
   "metadata": {},
   "outputs": [],
   "source": []
  }
 ],
 "metadata": {
  "kernelspec": {
   "display_name": "Python 3",
   "language": "python",
   "name": "python3"
  },
  "language_info": {
   "codemirror_mode": {
    "name": "ipython",
    "version": 3
   },
   "file_extension": ".py",
   "mimetype": "text/x-python",
   "name": "python",
   "nbconvert_exporter": "python",
   "pygments_lexer": "ipython3",
   "version": "3.6.5"
  }
 },
 "nbformat": 4,
 "nbformat_minor": 2
}
