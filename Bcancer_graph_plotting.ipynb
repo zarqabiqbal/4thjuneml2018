{
 "cells": [
  {
   "cell_type": "code",
   "execution_count": 41,
   "metadata": {},
   "outputs": [
    {
     "name": "stdout",
     "output_type": "stream",
     "text": [
      "DSC ALGO ACCURACY : 89.47368421052632 %\n",
      "KNN ALGO ACCURACY : 94.73684210526315 %\n",
      "SVC ALGO ACCURACY : 61.40350877192983 %\n"
     ]
    },
    {
     "data": {
      "image/png": "[encoded data removed]",
      "text/plain": [
       "<Figure size 432x288 with 1 Axes>"
      ]
     },
     "metadata": {},
     "output_type": "display_data"
    }
   ],
   "source": [
    "from sklearn.datasets import load_breast_cancer\n",
    "from sklearn.model_selection import train_test_split\n",
    "from sklearn import tree\n",
    "from sklearn.metrics import accuracy_score\n",
    "from sklearn.neighbors import KNeighborsClassifier\n",
    "from sklearn import svm\n",
    "import matplotlib.pyplot as plt\n",
    "\n",
    "breast=load_breast_cancer() \n",
    "\n",
    "trained_data,test_data,trained_target,test_target=train_test_split(breast.data,breast.target,test_size=0.1)\n",
    "\n",
    "#load Algorithms\n",
    "dsc=tree.DecisionTreeClassifier()\n",
    "knnc=KNeighborsClassifier(n_neighbors=3)\n",
    "svcc=svm.SVC()\n",
    "\n",
    "#trained data with diffrent algorithms\n",
    "dsctrained=dsc.fit(trained_data,trained_target)\n",
    "knnctrained=knnc.fit(trained_data,trained_target)\n",
    "svcctrained=svcc.fit(trained_data,trained_target)\n",
    "\n",
    "#get predict output with diffrent algorithms\n",
    "dscpredicted_output=dsctrained.predict(test_data)\n",
    "knncpredicted_output=knnctrained.predict(test_data)\n",
    "svccpredicted_output=svcctrained.predict(test_data)\n",
    "\n",
    "#check accuracy of algorithms\n",
    "pct_dsc=accuracy_score(test_target,dscpredicted_output)*100\n",
    "pct_knn=accuracy_score(test_target,knncpredicted_output)*100\n",
    "pct_svc=accuracy_score(test_target,svccpredicted_output)*100\n",
    "\n",
    "print(\"DSC ALGO ACCURACY :\",pct_dsc,\"%\")\n",
    "print(\"KNN ALGO ACCURACY :\",pct_knn,\"%\")\n",
    "print(\"SVC ALGO ACCURACY :\",pct_svc,\"%\")\n",
    "\n",
    "\n",
    "plt.xlabel(\"<--------Algorithms-------->\")\n",
    "plt.ylabel(\"<--------Accuracy of Algorithms-------->\")\n",
    "plt.title(\"Graph Of Algorithm Accuracy\")\n",
    "plt.axis([-1,3,0,100])\n",
    "plt.grid(color='grey')\n",
    "plt.bar(['DSC','KNN','SVM'],[pct_dsc,pct_knn,pct_svc],color='orange')\n",
    "plt.show()\n",
    "\n",
    "\n",
    "\n"
   ]
  },
  {
   "cell_type": "code",
   "execution_count": null,
   "metadata": {},
   "outputs": [],
   "source": []
  },
  {
   "cell_type": "code",
   "execution_count": null,
   "metadata": {},
   "outputs": [],
   "source": []
  }
 ],
 "metadata": {
  "kernelspec": {
   "display_name": "Python 3",
   "language": "python",
   "name": "python3"
  },
  "language_info": {
   "codemirror_mode": {
    "name": "ipython",
    "version": 3
   },
   "file_extension": ".py",
   "mimetype": "text/x-python",
   "name": "python",
   "nbconvert_exporter": "python",
   "pygments_lexer": "ipython3",
   "version": "3.6.3"
  }
 },
 "nbformat": 4,
 "nbformat_minor": 2
}
