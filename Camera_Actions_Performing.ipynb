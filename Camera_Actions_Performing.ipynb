{
 "cells": [
  {
   "cell_type": "code",
   "execution_count": 5,
   "metadata": {},
   "outputs": [
    {
     "name": "stdout",
     "output_type": "stream",
     "text": [
      "Camer Is Opened\n",
      "(480, 640, 3)\n"
     ]
    }
   ],
   "source": [
    "import cv2\n",
    "#initialize the Video Capture Device\n",
    "capture=cv2.VideoCapture(0)\n",
    "#check the camera is opened or not\n",
    "if capture.isOpened():\n",
    "    print(\"Camer Is Opened\")\n",
    "    # read the status and image from the camera\n",
    "    status,frame=capture.read()\n",
    "    #print the shape of the image\n",
    "    print(frame.shape)\n",
    "    #show the image\n",
    "    cv2.imshow(\"Image\",frame)\n",
    "    #wait until any quit button is pressed \n",
    "    cv2.waitKey(0)\n",
    "    cv2.destroyAllWindows()\n",
    "    #turn off the capture device\n",
    "    capture.release()\n",
    "else:\n",
    "    print(\"Check your driver with os\")"
   ]
  },
  {
   "cell_type": "code",
   "execution_count": null,
   "metadata": {},
   "outputs": [],
   "source": []
  },
  {
   "cell_type": "code",
   "execution_count": null,
   "metadata": {},
   "outputs": [],
   "source": []
  }
 ],
 "metadata": {
  "kernelspec": {
   "display_name": "Python 3",
   "language": "python",
   "name": "python3"
  },
  "language_info": {
   "codemirror_mode": {
    "name": "ipython",
    "version": 3
   },
   "file_extension": ".py",
   "mimetype": "text/x-python",
   "name": "python",
   "nbconvert_exporter": "python",
   "pygments_lexer": "ipython3",
   "version": "3.6.5"
  }
 },
 "nbformat": 4,
 "nbformat_minor": 2
}
