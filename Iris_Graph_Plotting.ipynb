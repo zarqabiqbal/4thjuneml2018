{
 "cells": [
  {
   "cell_type": "code",
   "execution_count": 2,
   "metadata": {},
   "outputs": [
    {
     "name": "stdout",
     "output_type": "stream",
     "text": [
      "[1 0 2 1 1 1 1 2 1 0 1 0 0 2 0 0 2 1 0 0 2 2 0 1 2 0 1 1 0 0]\n",
      "0.9666666666666667\n"
     ]
    },
    {
     "data": {
      "image/png": "[encoded data removed]",
      "text/plain": [
       "<Figure size 432x288 with 1 Axes>"
      ]
     },
     "metadata": {},
     "output_type": "display_data"
    }
   ],
   "source": [
    "#!/usr/bin/python3\n",
    "from sklearn.datasets import load_iris\n",
    "iris=load_iris()\n",
    "from sklearn.model_selection import train_test_split\n",
    "x,y,z,a=train_test_split(iris.data,iris.target,test_size=0.2)\n",
    "from sklearn import tree \n",
    "dsclf=tree.DecisionTreeClassifier()\n",
    "trained=dsclf.fit(x,z)\n",
    "predict=trained.predict(y)\n",
    "print(predict)\n",
    "from sklearn.metrics import accuracy_score\n",
    "check_point=accuracy_score(a,predict)\n",
    "print(check_point)\n",
    "\n",
    "import matplotlib.pyplot as plt\n",
    "x=a\n",
    "y=predict\n",
    "\n",
    "plt.ylabel(\"test_target\")\n",
    "plt.xlabel(\"output\")\n",
    "\n",
    "plt.bar(y,x,color='g')\n",
    "plt.grid(color='b')\n",
    "\n",
    "plt.title(\"Chech Accuracy\")\n",
    "\n",
    "plt.show()\n",
    "\n"
   ]
  },
  {
   "cell_type": "code",
   "execution_count": null,
   "metadata": {},
   "outputs": [],
   "source": []
  },
  {
   "cell_type": "code",
   "execution_count": null,
   "metadata": {},
   "outputs": [],
   "source": []
  },
  {
   "cell_type": "code",
   "execution_count": null,
   "metadata": {},
   "outputs": [],
   "source": []
  },
  {
   "cell_type": "code",
   "execution_count": null,
   "metadata": {},
   "outputs": [],
   "source": []
  },
  {
   "cell_type": "code",
   "execution_count": null,
   "metadata": {},
   "outputs": [],
   "source": []
  },
  {
   "cell_type": "code",
   "execution_count": null,
   "metadata": {},
   "outputs": [],
   "source": []
  }
 ],
 "metadata": {
  "kernelspec": {
   "display_name": "Python 3",
   "language": "python",
   "name": "python3"
  },
  "language_info": {
   "codemirror_mode": {
    "name": "ipython",
    "version": 3
   },
   "file_extension": ".py",
   "mimetype": "text/x-python",
   "name": "python",
   "nbconvert_exporter": "python",
   "pygments_lexer": "ipython3",
   "version": "3.6.3"
  }
 },
 "nbformat": 4,
 "nbformat_minor": 2
}
