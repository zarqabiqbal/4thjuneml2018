{
 "cells": [
  {
   "cell_type": "code",
   "execution_count": 12,
   "metadata": {},
   "outputs": [
    {
     "name": "stdout",
     "output_type": "stream",
     "text": [
      "3\n"
     ]
    }
   ],
   "source": [
    "#install MySQLdb (pip3 install mysqlclient)\n",
    "###########################################-----Check Sql table number of rows---#################################\n",
    "\n",
    "#import mysql library\n",
    "import MySQLdb as my\n",
    "#configure & connect with db  \n",
    "db = my.connect(host=\"127.0.0.1\",\n",
    "user=\"root\",\n",
    "passwd=\"yourdatabasepassword\",\n",
    "db=\"yourdatabasename\"\n",
    ")\n",
    "#prepare cursor object using cursor function\n",
    "cursor = db.cursor()\n",
    "#execute quesry and store the affected row result\n",
    "number_of_rows = cursor.execute(\"select * from tablename\");\n",
    "#print number of rows \n",
    "print(number_of_rows)\n",
    "#close database connection\n",
    "db.close()"
   ]
  },
  {
   "cell_type": "code",
   "execution_count": 6,
   "metadata": {},
   "outputs": [
    {
     "name": "stdout",
     "output_type": "stream",
     "text": [
      "((1, 'Zarqab', 8932061199, 'zarqabiqbal@gmail.com'), (2, 'Adarsh', 9580671275, 'adarshmishra067@gmail.com'), (3, 'Sumit', 8707315651, 'sumit15bt@gmail.com'))\n"
     ]
    }
   ],
   "source": [
    "######################################----Print table data-------########################################################\n",
    "import MySQLdb as my\n",
    " \n",
    "db = my.connect(host=\"127.0.0.1\",\n",
    "user=\"root\",\n",
    "passwd=\"\",\n",
    "db=\"\"\n",
    ")\n",
    " \n",
    "cursor = db.cursor()\n",
    " \n",
    "number_of_rows = cursor.execute(\"select * from tablename\");\n",
    "#extract the data from the number of rows affected by the the query\n",
    "result = cursor.fetchall()\n",
    "#print data\n",
    "print(result)\n",
    " \n",
    "db.close()"
   ]
  },
  {
   "cell_type": "code",
   "execution_count": 7,
   "metadata": {},
   "outputs": [
    {
     "name": "stdout",
     "output_type": "stream",
     "text": [
      "(1, 'Zarqab', 8932061199, 'zarqabiqbal@gmail.com')\n",
      "(2, 'Adarsh', 9580671275, 'adarshmishra067@gmail.com')\n",
      "(3, 'Sumit', 8707315651, 'sumit15bt@gmail.com')\n"
     ]
    }
   ],
   "source": [
    "import MySQLdb as my\n",
    " \n",
    "db = my.connect(host=\"127.0.0.1\",\n",
    "user=\"root\",\n",
    "passwd=\"\",\n",
    "db=\"\"\n",
    ")\n",
    " \n",
    "cursor = db.cursor()\n",
    " \n",
    "number_of_rows = cursor.execute(\"select * from tablename\");\n",
    " \n",
    "result = cursor.fetchall()\n",
    "for row in result:\n",
    "  print(row)\n",
    " \n",
    "db.close()"
   ]
  },
  {
   "cell_type": "code",
   "execution_count": 14,
   "metadata": {},
   "outputs": [
    {
     "name": "stdout",
     "output_type": "stream",
     "text": [
      "Zarqab 8932061199\n"
     ]
    }
   ],
   "source": [
    "import MySQLdb as my\n",
    " \n",
    "db = my.connect(host=\"127.0.0.1\",\n",
    "user=\"root\",\n",
    "passwd=\"\",\n",
    "db=\"\"\n",
    ")\n",
    " \n",
    "cursor = db.cursor()\n",
    " \n",
    "sql = \"select * from tablename where colname='value'\"\n",
    " \n",
    "number_of_rows = cursor.execute(sql)\n",
    " \n",
    "result = cursor.fetchall()\n",
    "for row in result:\n",
    "  print(row[1], row[2])\n",
    " \n",
    "db.close()"
   ]
  }
 ],
 "metadata": {
  "kernelspec": {
   "display_name": "Python 3",
   "language": "python",
   "name": "python3"
  },
  "language_info": {
   "codemirror_mode": {
    "name": "ipython",
    "version": 3
   },
   "file_extension": ".py",
   "mimetype": "text/x-python",
   "name": "python",
   "nbconvert_exporter": "python",
   "pygments_lexer": "ipython3",
   "version": "3.6.5"
  }
 },
 "nbformat": 4,
 "nbformat_minor": 2
}
