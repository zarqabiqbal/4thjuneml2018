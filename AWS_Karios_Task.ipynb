{
 "cells": [
  {
   "cell_type": "code",
   "execution_count": 5,
   "metadata": {},
   "outputs": [
    {
     "name": "stdout",
     "output_type": "stream",
     "text": [
      "Image Sending Error\n"
     ]
    }
   ],
   "source": [
    "import cv2\n",
    "import os\n",
    "import random\n",
    "#initialize video capture device\n",
    "cap=cv2.VideoCapture(1)\n",
    "while cap.isOpened():\n",
    "    #capture image from video device\n",
    "    status,img=cap.read()\n",
    "    #show image\n",
    "    cv2.imshow(\"Press C for 2 sec to capture the photo\",img)\n",
    "    #break loop if press q\n",
    "    if cv2.waitKey(1) & 0xff==ord('q'):\n",
    "        break\n",
    "    #press c for capture and enter into elif\n",
    "    elif  cv2.waitKey(2) & 0xff==ord('c'):\n",
    "        #show capture image\n",
    "        cv2.imshow(\"Capture Image\",img)\n",
    "        #pick any random number using random library and it function\n",
    "        num=str(random.random())[2:6]\n",
    "        #write the image into disk\n",
    "        cv2.imwrite(\"/home/md/Desktop/images/Image\"+num+\".jpg\",img)\n",
    "        #send the file to aws cloud using scp command (sshpass use for enter the password directly without prompt)\n",
    "        result=os.system('sshpass -p yourpassword scp path/to/your/image username@yourpublicip:/path/to/save/image')\n",
    "        if result:\n",
    "            print(\"Image Succesfully send\")\n",
    "        else:\n",
    "            print(\"Image Sending Error\")\n",
    "cv2.destroyAllWindows()\n",
    "cap.release()"
   ]
  },
  {
   "cell_type": "code",
   "execution_count": null,
   "metadata": {},
   "outputs": [],
   "source": []
  }
 ],
 "metadata": {
  "kernelspec": {
   "display_name": "Python 3",
   "language": "python",
   "name": "python3"
  },
  "language_info": {
   "codemirror_mode": {
    "name": "ipython",
    "version": 3
   },
   "file_extension": ".py",
   "mimetype": "text/x-python",
   "name": "python",
   "nbconvert_exporter": "python",
   "pygments_lexer": "ipython3",
   "version": "3.6.5"
  }
 },
 "nbformat": 4,
 "nbformat_minor": 2
}
